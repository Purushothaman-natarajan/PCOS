{
 "cells": [
  {
   "cell_type": "markdown",
   "id": "967d6fe5",
   "metadata": {},
   "source": [
    "# 1. Libraries used"
   ]
  },
  {
   "cell_type": "code",
   "execution_count": 1,
   "id": "6d68c923",
   "metadata": {
    "execution": {
     "iopub.execute_input": "2023-05-15T16:38:30.777788Z",
     "iopub.status.busy": "2023-05-15T16:38:30.776537Z",
     "iopub.status.idle": "2023-05-15T16:38:33.078682Z",
     "shell.execute_reply": "2023-05-15T16:38:33.076847Z",
     "shell.execute_reply.started": "2023-05-15T16:38:30.777733Z"
    }
   },
   "outputs": [],
   "source": [
    "import pandas as pd\n",
    "import numpy as np\n",
    "import matplotlib.pyplot as plt\n",
    "import seaborn as sns\n",
    "from sklearn.model_selection import train_test_split\n",
    "from sklearn.ensemble import RandomForestClassifier\n",
    "from sklearn.metrics import accuracy_score\n",
    "from sklearn.model_selection import cross_val_score\n",
    "from sklearn.model_selection import GridSearchCV\n",
    "from sklearn.metrics import confusion_matrix\n",
    "from sklearn.metrics import classification_report\n",
    "from scipy.stats import chi2_contingency"
   ]
  },
  {
   "cell_type": "markdown",
   "id": "f06f69a1",
   "metadata": {
    "id": "3cc8e0cb"
   },
   "source": [
    "# 2. Data Acquisition\n",
    "---\n",
    "\n",
    "\n",
    "\n",
    "## 2.1 Download the data directly\n",
    "\n"
   ]
  },
  {
   "cell_type": "markdown",
   "id": "2ca9ac08",
   "metadata": {
    "id": "4b51d895"
   },
   "source": [
    "DATA SOURCE : https://www.kaggle.com/datasets/prasoonkottarathil/polycystic-ovary-syndrome-pcos/download?datasetVersionNumber=3"
   ]
  },
  {
   "cell_type": "markdown",
   "id": "517d7a2f",
   "metadata": {
    "id": "49530d0c"
   },
   "source": [
    "## 2.2 Code for converting the above downloaded data into a dataframe"
   ]
  },
  {
   "cell_type": "code",
   "execution_count": 2,
   "id": "6e266075",
   "metadata": {
    "execution": {
     "iopub.execute_input": "2023-05-15T16:38:33.082443Z",
     "iopub.status.busy": "2023-05-15T16:38:33.081840Z",
     "iopub.status.idle": "2023-05-15T16:38:33.099385Z",
     "shell.execute_reply": "2023-05-15T16:38:33.097375Z",
     "shell.execute_reply.started": "2023-05-15T16:38:33.082376Z"
    }
   },
   "outputs": [
    {
     "ename": "FileNotFoundError",
     "evalue": "[WinError 3] The system cannot find the path specified: '/kaggle/input/polycystic-ovary-syndrome-pcos/'",
     "output_type": "error",
     "traceback": [
      "\u001b[1;31m---------------------------------------------------------------------------\u001b[0m",
      "\u001b[1;31mFileNotFoundError\u001b[0m                         Traceback (most recent call last)",
      "\u001b[1;32m~\\AppData\\Local\\Temp\\ipykernel_9596\\728188557.py\u001b[0m in \u001b[0;36m<module>\u001b[1;34m\u001b[0m\n\u001b[0;32m      1\u001b[0m \u001b[1;32mimport\u001b[0m \u001b[0mos\u001b[0m\u001b[1;33m;\u001b[0m\u001b[1;33m\u001b[0m\u001b[1;33m\u001b[0m\u001b[0m\n\u001b[1;32m----> 2\u001b[1;33m \u001b[0mos\u001b[0m\u001b[1;33m.\u001b[0m\u001b[0mlistdir\u001b[0m\u001b[1;33m(\u001b[0m\u001b[1;34m'/kaggle/input/polycystic-ovary-syndrome-pcos/'\u001b[0m\u001b[1;33m)\u001b[0m\u001b[1;33m\u001b[0m\u001b[1;33m\u001b[0m\u001b[0m\n\u001b[0m",
      "\u001b[1;31mFileNotFoundError\u001b[0m: [WinError 3] The system cannot find the path specified: '/kaggle/input/polycystic-ovary-syndrome-pcos/'"
     ]
    }
   ],
   "source": [
    "import os;\n",
    "os.listdir('/kaggle/input/polycystic-ovary-syndrome-pcos/')"
   ]
  },
  {
   "cell_type": "code",
   "execution_count": null,
   "id": "c2d44808",
   "metadata": {
    "execution": {
     "iopub.execute_input": "2023-05-15T16:38:33.101865Z",
     "iopub.status.busy": "2023-05-15T16:38:33.101269Z",
     "iopub.status.idle": "2023-05-15T16:38:34.543489Z",
     "shell.execute_reply": "2023-05-15T16:38:34.541970Z",
     "shell.execute_reply.started": "2023-05-15T16:38:33.101802Z"
    },
    "id": "c1f4c171"
   },
   "outputs": [],
   "source": [
    "pcos = pd.read_excel('/kaggle/input/polycystic-ovary-syndrome-pcos/PCOS_data_without_infertility.xlsx', sheet_name=\"Full_new\") "
   ]
  },
  {
   "cell_type": "markdown",
   "id": "4acfada1",
   "metadata": {
    "id": "7b1fea4d"
   },
   "source": [
    "## 2.3 Confirm the data has been downloaded correctly by displaying the first 5 and last 5 records."
   ]
  },
  {
   "cell_type": "code",
   "execution_count": null,
   "id": "caa817ea",
   "metadata": {
    "execution": {
     "iopub.execute_input": "2023-05-15T16:38:34.548855Z",
     "iopub.status.busy": "2023-05-15T16:38:34.547260Z",
     "iopub.status.idle": "2023-05-15T16:38:34.612187Z",
     "shell.execute_reply": "2023-05-15T16:38:34.610626Z",
     "shell.execute_reply.started": "2023-05-15T16:38:34.548785Z"
    },
    "id": "624e6c58"
   },
   "outputs": [],
   "source": [
    "pcos.head() #first 5 records in the data set"
   ]
  },
  {
   "cell_type": "code",
   "execution_count": null,
   "id": "874dfb71",
   "metadata": {
    "execution": {
     "iopub.execute_input": "2023-05-15T16:38:34.615223Z",
     "iopub.status.busy": "2023-05-15T16:38:34.614645Z",
     "iopub.status.idle": "2023-05-15T16:38:34.661278Z",
     "shell.execute_reply": "2023-05-15T16:38:34.659827Z",
     "shell.execute_reply.started": "2023-05-15T16:38:34.615155Z"
    }
   },
   "outputs": [],
   "source": [
    "pcos.tail() #last 5 records in the data set"
   ]
  },
  {
   "cell_type": "markdown",
   "id": "2f47caf1",
   "metadata": {
    "id": "bb84fc56"
   },
   "source": [
    "## 2.4 Display the column headings, statistical information, description and statistical summary of the data."
   ]
  },
  {
   "cell_type": "code",
   "execution_count": null,
   "id": "2da89885",
   "metadata": {
    "execution": {
     "iopub.execute_input": "2023-05-15T16:38:34.664030Z",
     "iopub.status.busy": "2023-05-15T16:38:34.663429Z",
     "iopub.status.idle": "2023-05-15T16:38:34.675925Z",
     "shell.execute_reply": "2023-05-15T16:38:34.673756Z",
     "shell.execute_reply.started": "2023-05-15T16:38:34.663968Z"
    }
   },
   "outputs": [],
   "source": [
    "pcos.columns #column heading"
   ]
  },
  {
   "cell_type": "code",
   "execution_count": null,
   "id": "c739aa46",
   "metadata": {
    "execution": {
     "iopub.execute_input": "2023-05-15T16:38:34.680090Z",
     "iopub.status.busy": "2023-05-15T16:38:34.678748Z",
     "iopub.status.idle": "2023-05-15T16:38:34.915006Z",
     "shell.execute_reply": "2023-05-15T16:38:34.913599Z",
     "shell.execute_reply.started": "2023-05-15T16:38:34.680022Z"
    }
   },
   "outputs": [],
   "source": [
    "pcos.describe(include='all').transpose() #statistical summary of the data"
   ]
  },
  {
   "cell_type": "code",
   "execution_count": null,
   "id": "15120eae",
   "metadata": {
    "execution": {
     "iopub.execute_input": "2023-05-15T16:38:34.918036Z",
     "iopub.status.busy": "2023-05-15T16:38:34.916788Z",
     "iopub.status.idle": "2023-05-15T16:38:34.942315Z",
     "shell.execute_reply": "2023-05-15T16:38:34.940613Z",
     "shell.execute_reply.started": "2023-05-15T16:38:34.917980Z"
    }
   },
   "outputs": [],
   "source": [
    "pcos.info() #data type of the attributes"
   ]
  },
  {
   "cell_type": "code",
   "execution_count": null,
   "id": "1c8fc471",
   "metadata": {
    "execution": {
     "iopub.execute_input": "2023-05-15T16:38:34.944708Z",
     "iopub.status.busy": "2023-05-15T16:38:34.944261Z",
     "iopub.status.idle": "2023-05-15T16:38:34.954422Z",
     "shell.execute_reply": "2023-05-15T16:38:34.952864Z",
     "shell.execute_reply.started": "2023-05-15T16:38:34.944667Z"
    }
   },
   "outputs": [],
   "source": [
    "pcos.size #size of the data set"
   ]
  },
  {
   "cell_type": "code",
   "execution_count": null,
   "id": "706b5b1f",
   "metadata": {
    "execution": {
     "iopub.execute_input": "2023-05-15T16:38:34.963703Z",
     "iopub.status.busy": "2023-05-15T16:38:34.962967Z",
     "iopub.status.idle": "2023-05-15T16:38:34.973269Z",
     "shell.execute_reply": "2023-05-15T16:38:34.971615Z",
     "shell.execute_reply.started": "2023-05-15T16:38:34.963641Z"
    }
   },
   "outputs": [],
   "source": [
    "pcos.shape #shape of the dataset (Rows , columns)"
   ]
  },
  {
   "cell_type": "code",
   "execution_count": null,
   "id": "fa748ad5",
   "metadata": {
    "execution": {
     "iopub.execute_input": "2023-05-15T16:38:34.976360Z",
     "iopub.status.busy": "2023-05-15T16:38:34.975651Z",
     "iopub.status.idle": "2023-05-15T16:38:35.010887Z",
     "shell.execute_reply": "2023-05-15T16:38:35.009322Z",
     "shell.execute_reply.started": "2023-05-15T16:38:34.976294Z"
    }
   },
   "outputs": [],
   "source": [
    "pcos.info #shape of the dataset (Row & columns)"
   ]
  },
  {
   "cell_type": "code",
   "execution_count": null,
   "id": "57317123",
   "metadata": {
    "execution": {
     "iopub.execute_input": "2023-05-15T16:38:35.013749Z",
     "iopub.status.busy": "2023-05-15T16:38:35.012817Z",
     "iopub.status.idle": "2023-05-15T16:38:35.045010Z",
     "shell.execute_reply": "2023-05-15T16:38:35.043548Z",
     "shell.execute_reply.started": "2023-05-15T16:38:35.013689Z"
    }
   },
   "outputs": [],
   "source": [
    "pcos.isnull #null data"
   ]
  },
  {
   "cell_type": "markdown",
   "id": "000785c2",
   "metadata": {
    "id": "086ad28e"
   },
   "source": [
    "Description & Statistical summary from the data "
   ]
  },
  {
   "cell_type": "markdown",
   "id": "bd3fed37",
   "metadata": {
    "id": "812edb18"
   },
   "source": [
    "## 2.5 Observations from the above. \n"
   ]
  },
  {
   "cell_type": "markdown",
   "id": "4db23e07",
   "metadata": {},
   "source": [
    "The data set is 24345 in size, with 541 rows and 45 columns. The majority of the attributes in our data set are integers and floats. We can also see some object data types, but based on the data set, we can disregard the entire attribute because it contains no useful information for the analysis."
   ]
  },
  {
   "cell_type": "markdown",
   "id": "c8328281",
   "metadata": {
    "id": "102e0e36"
   },
   "source": [
    "# 3. Data Preparation"
   ]
  },
  {
   "cell_type": "raw",
   "id": "69b4ff30",
   "metadata": {
    "id": "637cb469"
   },
   "source": [
    "If input data is numerical or categorical, do 3.1, 3.2 and 3.4\n",
    "If input data is text, do 3.3 and 3.4"
   ]
  },
  {
   "cell_type": "markdown",
   "id": "4f8ff9d6",
   "metadata": {
    "id": "2bcb953b"
   },
   "source": [
    "## 3.1 Check for \n",
    "\n",
    "* duplicate data\n",
    "* missing data\n",
    "* data inconsistencies\n"
   ]
  },
  {
   "cell_type": "code",
   "execution_count": null,
   "id": "76ad3bf3",
   "metadata": {
    "execution": {
     "iopub.execute_input": "2023-05-15T16:38:35.048069Z",
     "iopub.status.busy": "2023-05-15T16:38:35.047146Z",
     "iopub.status.idle": "2023-05-15T16:38:35.075583Z",
     "shell.execute_reply": "2023-05-15T16:38:35.073801Z",
     "shell.execute_reply.started": "2023-05-15T16:38:35.048011Z"
    }
   },
   "outputs": [],
   "source": [
    "pcos.duplicated() #Duplicate Data"
   ]
  },
  {
   "cell_type": "code",
   "execution_count": null,
   "id": "306fa9ea",
   "metadata": {
    "execution": {
     "iopub.execute_input": "2023-05-15T16:38:35.079485Z",
     "iopub.status.busy": "2023-05-15T16:38:35.079006Z",
     "iopub.status.idle": "2023-05-15T16:38:35.100014Z",
     "shell.execute_reply": "2023-05-15T16:38:35.098622Z",
     "shell.execute_reply.started": "2023-05-15T16:38:35.079445Z"
    }
   },
   "outputs": [],
   "source": [
    "pcos.duplicated().sum() #No Duplicate data found"
   ]
  },
  {
   "cell_type": "code",
   "execution_count": null,
   "id": "845893df",
   "metadata": {
    "execution": {
     "iopub.execute_input": "2023-05-15T16:38:35.102606Z",
     "iopub.status.busy": "2023-05-15T16:38:35.102027Z",
     "iopub.status.idle": "2023-05-15T16:38:35.118096Z",
     "shell.execute_reply": "2023-05-15T16:38:35.116131Z",
     "shell.execute_reply.started": "2023-05-15T16:38:35.102550Z"
    }
   },
   "outputs": [],
   "source": [
    "pcos.isna().sum() #missing data"
   ]
  },
  {
   "cell_type": "code",
   "execution_count": null,
   "id": "48ef4d5a",
   "metadata": {
    "execution": {
     "iopub.execute_input": "2023-05-15T16:38:35.121933Z",
     "iopub.status.busy": "2023-05-15T16:38:35.120952Z",
     "iopub.status.idle": "2023-05-15T16:38:35.134386Z",
     "shell.execute_reply": "2023-05-15T16:38:35.133057Z",
     "shell.execute_reply.started": "2023-05-15T16:38:35.121872Z"
    }
   },
   "outputs": [],
   "source": [
    "(pcos.isna().sum() > 0).values"
   ]
  },
  {
   "cell_type": "code",
   "execution_count": null,
   "id": "2d057c87",
   "metadata": {
    "execution": {
     "iopub.execute_input": "2023-05-15T16:38:35.137666Z",
     "iopub.status.busy": "2023-05-15T16:38:35.136557Z",
     "iopub.status.idle": "2023-05-15T16:38:35.147627Z",
     "shell.execute_reply": "2023-05-15T16:38:35.146484Z",
     "shell.execute_reply.started": "2023-05-15T16:38:35.137606Z"
    }
   },
   "outputs": [],
   "source": [
    "# drop the unnecessary columns\n",
    "pcos =pcos.drop(['Sl. No', 'Patient File No.','Weight (Kg)',\n",
    "       'Height(Cm) ','RR (breaths/min)', 'Cycle(R/I)',\n",
    "       'Marraige Status (Yrs)','  I   beta-HCG(mIU/mL)', 'II    beta-HCG(mIU/mL)', 'FSH(mIU/mL)',\n",
    "       'LH(mIU/mL)', 'FSH/LH', 'Hip(inch)', 'Waist(inch)',\n",
    "       'AMH(ng/mL)', 'PRL(ng/mL)','PRG(ng/mL)', 'RBS(mg/dl)', 'hair growth(Y/N)',\n",
    "       'BP _Systolic (mmHg)', 'BP _Diastolic (mmHg)', 'Endometrium (mm)','Unnamed: 44','Vit D3 (ng/mL)'],axis=1)"
   ]
  },
  {
   "cell_type": "code",
   "execution_count": null,
   "id": "49944488",
   "metadata": {
    "execution": {
     "iopub.execute_input": "2023-05-15T16:38:35.152194Z",
     "iopub.status.busy": "2023-05-15T16:38:35.150969Z",
     "iopub.status.idle": "2023-05-15T16:38:35.163598Z",
     "shell.execute_reply": "2023-05-15T16:38:35.162120Z",
     "shell.execute_reply.started": "2023-05-15T16:38:35.152139Z"
    }
   },
   "outputs": [],
   "source": [
    "pcos.columns #Updated dataframe (Pcos)"
   ]
  },
  {
   "cell_type": "code",
   "execution_count": null,
   "id": "5ce3aac3",
   "metadata": {
    "execution": {
     "iopub.execute_input": "2023-05-15T16:38:35.166999Z",
     "iopub.status.busy": "2023-05-15T16:38:35.166011Z",
     "iopub.status.idle": "2023-05-15T16:38:35.176711Z",
     "shell.execute_reply": "2023-05-15T16:38:35.175066Z",
     "shell.execute_reply.started": "2023-05-15T16:38:35.166939Z"
    }
   },
   "outputs": [],
   "source": [
    "num_columns=pcos.select_dtypes(exclude='object').columns"
   ]
  },
  {
   "cell_type": "code",
   "execution_count": null,
   "id": "cc2b353c",
   "metadata": {
    "execution": {
     "iopub.execute_input": "2023-05-15T16:38:35.179616Z",
     "iopub.status.busy": "2023-05-15T16:38:35.178731Z",
     "iopub.status.idle": "2023-05-15T16:38:35.988478Z",
     "shell.execute_reply": "2023-05-15T16:38:35.986941Z",
     "shell.execute_reply.started": "2023-05-15T16:38:35.179559Z"
    }
   },
   "outputs": [],
   "source": [
    "sns.boxplot(data=pcos.filter(num_columns), orient= \"h\")\n",
    "plt.show()\n",
    "plt.close()"
   ]
  },
  {
   "cell_type": "markdown",
   "id": "38d1fe15",
   "metadata": {
    "id": "06fdebf8"
   },
   "source": [
    "## 3.2 Apply techiniques\n",
    "* to remove duplicate data\n",
    "* to impute or remove missing data\n",
    "* to remove data inconsistencies\n"
   ]
  },
  {
   "cell_type": "code",
   "execution_count": null,
   "id": "8f8fc052",
   "metadata": {
    "execution": {
     "iopub.execute_input": "2023-05-15T16:38:35.991215Z",
     "iopub.status.busy": "2023-05-15T16:38:35.990600Z",
     "iopub.status.idle": "2023-05-15T16:38:36.007813Z",
     "shell.execute_reply": "2023-05-15T16:38:36.006265Z",
     "shell.execute_reply.started": "2023-05-15T16:38:35.991148Z"
    },
    "id": "dd3118eb"
   },
   "outputs": [],
   "source": [
    "pcos.duplicated().sum() #no duplicates."
   ]
  },
  {
   "cell_type": "code",
   "execution_count": null,
   "id": "c80de425",
   "metadata": {
    "execution": {
     "iopub.execute_input": "2023-05-15T16:38:36.010200Z",
     "iopub.status.busy": "2023-05-15T16:38:36.009792Z",
     "iopub.status.idle": "2023-05-15T16:38:36.022685Z",
     "shell.execute_reply": "2023-05-15T16:38:36.021624Z",
     "shell.execute_reply.started": "2023-05-15T16:38:36.010162Z"
    }
   },
   "outputs": [],
   "source": [
    "mask = pcos.isna().any(axis=1)\n",
    "print(mask)"
   ]
  },
  {
   "cell_type": "code",
   "execution_count": null,
   "id": "4ddd4e53",
   "metadata": {
    "execution": {
     "iopub.execute_input": "2023-05-15T16:38:36.024814Z",
     "iopub.status.busy": "2023-05-15T16:38:36.024365Z",
     "iopub.status.idle": "2023-05-15T16:38:36.046204Z",
     "shell.execute_reply": "2023-05-15T16:38:36.044535Z",
     "shell.execute_reply.started": "2023-05-15T16:38:36.024772Z"
    }
   },
   "outputs": [],
   "source": [
    "indexes=mask.index[mask].tolist()\n",
    "print(indexes)"
   ]
  },
  {
   "cell_type": "code",
   "execution_count": null,
   "id": "3343dc16",
   "metadata": {
    "execution": {
     "iopub.execute_input": "2023-05-15T16:38:36.050234Z",
     "iopub.status.busy": "2023-05-15T16:38:36.048675Z",
     "iopub.status.idle": "2023-05-15T16:38:36.062659Z",
     "shell.execute_reply": "2023-05-15T16:38:36.061007Z",
     "shell.execute_reply.started": "2023-05-15T16:38:36.050162Z"
    }
   },
   "outputs": [],
   "source": [
    "pcos.drop([156, 458], inplace=True) #removed missing data "
   ]
  },
  {
   "cell_type": "code",
   "execution_count": null,
   "id": "05c64ba0",
   "metadata": {
    "execution": {
     "iopub.execute_input": "2023-05-15T16:38:36.065718Z",
     "iopub.status.busy": "2023-05-15T16:38:36.064830Z",
     "iopub.status.idle": "2023-05-15T16:38:36.083634Z",
     "shell.execute_reply": "2023-05-15T16:38:36.082124Z",
     "shell.execute_reply.started": "2023-05-15T16:38:36.065662Z"
    }
   },
   "outputs": [],
   "source": [
    "pcos.shape"
   ]
  },
  {
   "cell_type": "code",
   "execution_count": null,
   "id": "8ee6cf87",
   "metadata": {
    "execution": {
     "iopub.execute_input": "2023-05-15T16:38:36.087024Z",
     "iopub.status.busy": "2023-05-15T16:38:36.085601Z",
     "iopub.status.idle": "2023-05-15T16:38:36.103931Z",
     "shell.execute_reply": "2023-05-15T16:38:36.102592Z",
     "shell.execute_reply.started": "2023-05-15T16:38:36.086958Z"
    }
   },
   "outputs": [],
   "source": [
    "pcos.isna().sum() #checking for missing data."
   ]
  },
  {
   "cell_type": "code",
   "execution_count": null,
   "id": "bb823ab2",
   "metadata": {
    "execution": {
     "iopub.execute_input": "2023-05-15T16:38:36.107879Z",
     "iopub.status.busy": "2023-05-15T16:38:36.106228Z",
     "iopub.status.idle": "2023-05-15T16:38:36.117029Z",
     "shell.execute_reply": "2023-05-15T16:38:36.115923Z",
     "shell.execute_reply.started": "2023-05-15T16:38:36.107777Z"
    }
   },
   "outputs": [],
   "source": [
    "num_columns=pcos.select_dtypes(exclude='object').columns"
   ]
  },
  {
   "cell_type": "code",
   "execution_count": null,
   "id": "733fcbab",
   "metadata": {
    "execution": {
     "iopub.execute_input": "2023-05-15T16:38:36.128460Z",
     "iopub.status.busy": "2023-05-15T16:38:36.127064Z",
     "iopub.status.idle": "2023-05-15T16:38:36.744858Z",
     "shell.execute_reply": "2023-05-15T16:38:36.743264Z",
     "shell.execute_reply.started": "2023-05-15T16:38:36.128410Z"
    },
    "scrolled": true
   },
   "outputs": [],
   "source": [
    "sns.boxplot(data=pcos.filter(num_columns), orient= \"h\")\n",
    "plt.show()\n",
    "plt.close()"
   ]
  },
  {
   "cell_type": "code",
   "execution_count": null,
   "id": "78310e77",
   "metadata": {
    "execution": {
     "iopub.execute_input": "2023-05-15T16:38:36.747881Z",
     "iopub.status.busy": "2023-05-15T16:38:36.746982Z",
     "iopub.status.idle": "2023-05-15T16:38:36.840566Z",
     "shell.execute_reply": "2023-05-15T16:38:36.838938Z",
     "shell.execute_reply.started": "2023-05-15T16:38:36.747830Z"
    },
    "scrolled": true
   },
   "outputs": [],
   "source": [
    "pcos.describe().transpose()"
   ]
  },
  {
   "cell_type": "code",
   "execution_count": null,
   "id": "6e5ad14c",
   "metadata": {
    "execution": {
     "iopub.execute_input": "2023-05-15T16:38:36.843025Z",
     "iopub.status.busy": "2023-05-15T16:38:36.842348Z",
     "iopub.status.idle": "2023-05-15T16:38:36.963606Z",
     "shell.execute_reply": "2023-05-15T16:38:36.961854Z",
     "shell.execute_reply.started": "2023-05-15T16:38:36.842983Z"
    }
   },
   "outputs": [],
   "source": [
    "iqr =pcos.describe(percentiles=[0.25, 0.75]).loc['75%'].subtract(pcos.describe(percentiles=[0.25, 0.75]).loc['25%'])\n",
    "print(iqr)"
   ]
  },
  {
   "cell_type": "markdown",
   "id": "32d90681",
   "metadata": {
    "id": "2139fedf"
   },
   "source": [
    "## 3.3 Encode categorical data"
   ]
  },
  {
   "cell_type": "markdown",
   "id": "d481f12d",
   "metadata": {
    "id": "ae5a2917"
   },
   "source": [
    "## 3.4 Text data\n",
    "\n",
    "1. Remove special characters\n",
    "2. Change the case (up-casing and down-casing).\n",
    "3. Tokenization — process of discretizing words within a document.\n",
    "4. Filter Stop Words."
   ]
  },
  {
   "cell_type": "markdown",
   "id": "690051ec",
   "metadata": {
    "id": "e3cec4fc"
   },
   "source": [
    "## 3.4 Report"
   ]
  },
  {
   "cell_type": "markdown",
   "id": "9798504b",
   "metadata": {
    "id": "3ab84ce6"
   },
   "source": [
    "Duplicate Data:\n",
    "    There is no duplicate data in the data set so ignoring this part.\n",
    "Missing Data:\n",
    "    Indexes 156, 458 had missing data, they're missing completely at random (MCAR), and it very minimal and satisfied the conditon to remove the data from the data set. So we removed the indexes completely.\n",
    "Data inconsistencies:\n",
    "    The data set is consistent throughout, so we ignored this part."
   ]
  },
  {
   "cell_type": "markdown",
   "id": "a0aeadce",
   "metadata": {
    "id": "793cd04b"
   },
   "source": [
    "## 3.5 Target variables.\n",
    "\n",
    "* Separate the data from the target such that the dataset is in the form of (X,y) or (Features, Label)\n",
    "\n",
    "* Discretize / Encode the target variable or perform one-hot encoding on the target or any other as and if required.\n",
    "\n",
    "* Report the observations\n"
   ]
  },
  {
   "cell_type": "markdown",
   "id": "2ef1de47",
   "metadata": {
    "id": "c9089b57"
   },
   "source": [
    "our target variable is pcos, but it is already encoded so we'll move on to data visualization."
   ]
  },
  {
   "cell_type": "markdown",
   "id": "afa239c2",
   "metadata": {
    "id": "3ae0b5d2"
   },
   "source": [
    "# 4. Data Exploration using various plots\n",
    "\n"
   ]
  },
  {
   "cell_type": "markdown",
   "id": "3dfea746",
   "metadata": {
    "id": "186bf4d7"
   },
   "source": [
    "## 4.1 Scatter plot of each quantitative attribute with the target."
   ]
  },
  {
   "cell_type": "code",
   "execution_count": null,
   "id": "47ceec61",
   "metadata": {
    "execution": {
     "iopub.execute_input": "2023-05-15T16:38:36.965713Z",
     "iopub.status.busy": "2023-05-15T16:38:36.965168Z",
     "iopub.status.idle": "2023-05-15T16:38:37.237639Z",
     "shell.execute_reply": "2023-05-15T16:38:37.236402Z",
     "shell.execute_reply.started": "2023-05-15T16:38:36.965658Z"
    },
    "id": "868d7b27"
   },
   "outputs": [],
   "source": [
    "sns.scatterplot(x='PCOS (Y/N)', y=' Age (yrs)', data=pcos)\n",
    "plt.show()\n",
    "plt.close()"
   ]
  },
  {
   "cell_type": "markdown",
   "id": "0b952aa0",
   "metadata": {},
   "source": [
    "We have two cases, one with pcos and one without pcos, a scatter plot cannot provide enough information for this analysis, so we are plotting a relationship matrix, which clearly shows the relationship between the attributes."
   ]
  },
  {
   "cell_type": "code",
   "execution_count": null,
   "id": "d9afcb9b",
   "metadata": {
    "execution": {
     "iopub.execute_input": "2023-05-15T16:38:37.240289Z",
     "iopub.status.busy": "2023-05-15T16:38:37.239418Z",
     "iopub.status.idle": "2023-05-15T16:38:40.814373Z",
     "shell.execute_reply": "2023-05-15T16:38:40.813314Z",
     "shell.execute_reply.started": "2023-05-15T16:38:37.240233Z"
    },
    "scrolled": true
   },
   "outputs": [],
   "source": [
    "fig, ax = plt.subplots(4,2, figsize=(35,45))\n",
    "plt.style.use(\"classic\")\n",
    "\n",
    "sns.histplot(x = pcos['PCOS (Y/N)'], hue = pcos['Pregnant(Y/N)'], palette=\"viridis\", kde=True, ax=ax[0,0])\n",
    "ax[0,0].set_xlabel('PCOS (Y/N)',fontsize=20)\n",
    "sns.histplot(x = pcos['PCOS (Y/N)'], hue = pcos['No. of aborptions'], palette=\"viridis\", kde=True, ax=ax[0,1])\n",
    "ax[0,1].set_xlabel('PCOS (Y/N)',fontsize=20)\n",
    "sns.histplot(x = pcos['PCOS (Y/N)'], hue = pcos['Weight gain(Y/N)'], palette=\"viridis\", kde=True, ax=ax[1,0])\n",
    "ax[1,0].set_xlabel('PCOS (Y/N)',fontsize=20)\n",
    "sns.histplot(x = pcos['PCOS (Y/N)'], hue = pcos['Skin darkening (Y/N)'], palette=\"viridis\", kde=True, ax=ax[1,1])\n",
    "ax[1,1].set_xlabel('PCOS (Y/N)',fontsize=20)\n",
    "sns.histplot(x = pcos['PCOS (Y/N)'], hue = pcos['Hair loss(Y/N)'], palette=\"viridis\", kde=True, ax=ax[2,0])\n",
    "ax[2,0].set_xlabel('PCOS (Y/N)',fontsize=20)\n",
    "sns.histplot(x = pcos['PCOS (Y/N)'], hue = pcos['Pimples(Y/N)'], palette=\"viridis\", kde=True, ax=ax[2,1])\n",
    "ax[2,1].set_xlabel('PCOS (Y/N)',fontsize=20)\n",
    "sns.histplot(x = pcos['PCOS (Y/N)'], hue = pcos['Fast food (Y/N)'], palette=\"viridis\", kde=True, ax=ax[3,0])\n",
    "ax[3,0].set_xlabel('PCOS (Y/N)',fontsize=20)\n",
    "sns.histplot(x = pcos['PCOS (Y/N)'], hue = pcos['Reg.Exercise(Y/N)'], palette=\"viridis\", kde=True, ax=ax[3,1])\n",
    "ax[3,1].set_xlabel('PCOS (Y/N)',fontsize=20)"
   ]
  },
  {
   "cell_type": "code",
   "execution_count": null,
   "id": "72a99fdb",
   "metadata": {
    "execution": {
     "iopub.execute_input": "2023-05-15T16:38:40.816680Z",
     "iopub.status.busy": "2023-05-15T16:38:40.816007Z",
     "iopub.status.idle": "2023-05-15T16:38:40.823221Z",
     "shell.execute_reply": "2023-05-15T16:38:40.822316Z",
     "shell.execute_reply.started": "2023-05-15T16:38:40.816638Z"
    }
   },
   "outputs": [],
   "source": [
    "pcos.columns"
   ]
  },
  {
   "cell_type": "code",
   "execution_count": null,
   "id": "f3048bd2",
   "metadata": {
    "execution": {
     "iopub.execute_input": "2023-05-15T16:38:40.824997Z",
     "iopub.status.busy": "2023-05-15T16:38:40.824485Z",
     "iopub.status.idle": "2023-05-15T16:38:51.523097Z",
     "shell.execute_reply": "2023-05-15T16:38:51.521612Z",
     "shell.execute_reply.started": "2023-05-15T16:38:40.824960Z"
    }
   },
   "outputs": [],
   "source": [
    "for i in [' Age (yrs)', 'BMI', 'Blood Group', 'Pulse rate(bpm) ',\n",
    "       'Hb(g/dl)', 'Cycle length(days)', 'Pregnant(Y/N)', 'No. of aborptions',\n",
    "       'Waist:Hip Ratio', 'TSH (mIU/L)', 'Weight gain(Y/N)',\n",
    "       'Skin darkening (Y/N)', 'Hair loss(Y/N)', 'Pimples(Y/N)',\n",
    "       'Fast food (Y/N)', 'Reg.Exercise(Y/N)', 'Follicle No. (L)',\n",
    "       'Follicle No. (R)', 'Avg. F size (L) (mm)', 'Avg. F size (R) (mm)']:\n",
    "  sns.set(rc = {'figure.figsize':(15,15)})\n",
    "  pcos[pcos['PCOS (Y/N)'] == 1][i].value_counts().plot.bar()\n",
    "  plt.title(i)\n",
    "  plt.show()"
   ]
  },
  {
   "cell_type": "markdown",
   "id": "f3447445",
   "metadata": {
    "id": "575f9e37"
   },
   "source": [
    "## 4.2 EDA using visuals\n"
   ]
  },
  {
   "cell_type": "code",
   "execution_count": null,
   "id": "b9bc9d9c",
   "metadata": {
    "execution": {
     "iopub.execute_input": "2023-05-15T16:38:51.526356Z",
     "iopub.status.busy": "2023-05-15T16:38:51.524963Z",
     "iopub.status.idle": "2023-05-15T16:38:52.275142Z",
     "shell.execute_reply": "2023-05-15T16:38:52.273548Z",
     "shell.execute_reply.started": "2023-05-15T16:38:51.526309Z"
    },
    "id": "4d614311"
   },
   "outputs": [],
   "source": [
    "#correlation plot.\n",
    "\n",
    "corrmat = pcos.corr()\n",
    "plt.subplots(figsize=(20,20))\n",
    "sns.heatmap(corrmat,cmap=\"Pastel1\", square=True);"
   ]
  },
  {
   "cell_type": "code",
   "execution_count": null,
   "id": "dd608702",
   "metadata": {
    "execution": {
     "iopub.execute_input": "2023-05-15T16:38:52.278429Z",
     "iopub.status.busy": "2023-05-15T16:38:52.276939Z",
     "iopub.status.idle": "2023-05-15T16:38:53.735419Z",
     "shell.execute_reply": "2023-05-15T16:38:53.734039Z",
     "shell.execute_reply.started": "2023-05-15T16:38:52.278369Z"
    }
   },
   "outputs": [],
   "source": [
    "plt.figure(figsize=(14,14))\n",
    "k = 12 #number of variables with positive for heatmap\n",
    "l = 3 #number of variables with negative for heatmap\n",
    "cols_p = corrmat.nlargest(k, \"PCOS (Y/N)\")[\"PCOS (Y/N)\"].index \n",
    "cols_n = corrmat.nsmallest(l, \"PCOS (Y/N)\")[\"PCOS (Y/N)\"].index\n",
    "cols = cols_p.append(cols_n) \n",
    "\n",
    "cm = np.corrcoef(pcos[cols].values.T)\n",
    "sns.set(font_scale=1.25)\n",
    "hm = sns.heatmap(cm, cbar=True,cmap=\"Pastel1\", annot=True, square=True, fmt='.2f', annot_kws={'size': 10}, yticklabels=cols.values, xticklabels=cols.values)\n",
    "plt.show()"
   ]
  },
  {
   "cell_type": "code",
   "execution_count": null,
   "id": "bda7f7da",
   "metadata": {
    "execution": {
     "iopub.execute_input": "2023-05-15T16:38:53.737405Z",
     "iopub.status.busy": "2023-05-15T16:38:53.736986Z",
     "iopub.status.idle": "2023-05-15T16:38:53.750836Z",
     "shell.execute_reply": "2023-05-15T16:38:53.749432Z",
     "shell.execute_reply.started": "2023-05-15T16:38:53.737368Z"
    }
   },
   "outputs": [],
   "source": [
    "corrmat[\"PCOS (Y/N)\"].sort_values(ascending=False)"
   ]
  },
  {
   "cell_type": "code",
   "execution_count": null,
   "id": "dc416130",
   "metadata": {
    "execution": {
     "iopub.execute_input": "2023-05-15T16:38:53.753736Z",
     "iopub.status.busy": "2023-05-15T16:38:53.753312Z",
     "iopub.status.idle": "2023-05-15T16:40:35.781355Z",
     "shell.execute_reply": "2023-05-15T16:40:35.779422Z",
     "shell.execute_reply.started": "2023-05-15T16:38:53.753699Z"
    }
   },
   "outputs": [],
   "source": [
    "sns.pairplot(pcos)\n",
    "plt.show()\n",
    "plt.close()"
   ]
  },
  {
   "cell_type": "code",
   "execution_count": null,
   "id": "5d97c31a",
   "metadata": {
    "execution": {
     "iopub.execute_input": "2023-05-15T16:40:35.784232Z",
     "iopub.status.busy": "2023-05-15T16:40:35.783704Z",
     "iopub.status.idle": "2023-05-15T16:40:35.794864Z",
     "shell.execute_reply": "2023-05-15T16:40:35.793057Z",
     "shell.execute_reply.started": "2023-05-15T16:40:35.784183Z"
    }
   },
   "outputs": [],
   "source": [
    "pcos.columns"
   ]
  },
  {
   "cell_type": "markdown",
   "id": "b8f83d82",
   "metadata": {
    "id": "bdbc82a1"
   },
   "source": [
    "# 5. Data Wrangling\n",
    "\n"
   ]
  },
  {
   "cell_type": "markdown",
   "id": "a94e8f27",
   "metadata": {
    "id": "ca214eb3"
   },
   "source": [
    "## 5.1 Univariate Filters "
   ]
  },
  {
   "cell_type": "code",
   "execution_count": null,
   "id": "751d799b",
   "metadata": {
    "execution": {
     "iopub.execute_input": "2023-05-15T16:40:35.797701Z",
     "iopub.status.busy": "2023-05-15T16:40:35.797156Z",
     "iopub.status.idle": "2023-05-15T16:40:35.811094Z",
     "shell.execute_reply": "2023-05-15T16:40:35.809480Z",
     "shell.execute_reply.started": "2023-05-15T16:40:35.797651Z"
    }
   },
   "outputs": [],
   "source": [
    "pcos.columns"
   ]
  },
  {
   "cell_type": "code",
   "execution_count": null,
   "id": "8fc21875",
   "metadata": {
    "execution": {
     "iopub.execute_input": "2023-05-15T16:40:35.813541Z",
     "iopub.status.busy": "2023-05-15T16:40:35.813026Z",
     "iopub.status.idle": "2023-05-15T16:40:35.825178Z",
     "shell.execute_reply": "2023-05-15T16:40:35.823598Z",
     "shell.execute_reply.started": "2023-05-15T16:40:35.813476Z"
    },
    "id": "a85e9754"
   },
   "outputs": [],
   "source": [
    "#Chi-Squared\n",
    "def perform_chi2_test(data, col):\n",
    "    # Create a contingency table for the column and the target variable\n",
    "    contingency_table = pd.crosstab(data[col], data['PCOS (Y/N)'])\n",
    "    \n",
    "    # Perform the chi-square test\n",
    "    chi2_stat, p_val, dof, expected = chi2_contingency(contingency_table)\n",
    "    \n",
    "    # Print the results\n",
    "    print(f\"Column: {col}\")\n",
    "    print(f\"Chi-square statistic: {chi2_stat}\")\n",
    "    print(f\"P-value: {p_val}\")\n",
    "    print(f\"Degrees of freedom: {dof}\")\n",
    "    print(f\"Expected frequencies: {expected}\")\n",
    "    print(\"\\n\")\n"
   ]
  },
  {
   "cell_type": "code",
   "execution_count": null,
   "id": "dc16a2ad",
   "metadata": {
    "execution": {
     "iopub.execute_input": "2023-05-15T16:40:35.828104Z",
     "iopub.status.busy": "2023-05-15T16:40:35.827312Z",
     "iopub.status.idle": "2023-05-15T16:40:36.120888Z",
     "shell.execute_reply": "2023-05-15T16:40:36.119465Z",
     "shell.execute_reply.started": "2023-05-15T16:40:35.827990Z"
    }
   },
   "outputs": [],
   "source": [
    "#Chit-Squared\n",
    "for col in pcos.columns:\n",
    "    perform_chi2_test(pcos, col)"
   ]
  },
  {
   "cell_type": "code",
   "execution_count": null,
   "id": "a19205f3",
   "metadata": {
    "execution": {
     "iopub.execute_input": "2023-05-15T16:40:36.123341Z",
     "iopub.status.busy": "2023-05-15T16:40:36.122343Z",
     "iopub.status.idle": "2023-05-15T16:40:36.241419Z",
     "shell.execute_reply": "2023-05-15T16:40:36.239988Z",
     "shell.execute_reply.started": "2023-05-15T16:40:36.123297Z"
    }
   },
   "outputs": [],
   "source": [
    "#Mutual Information(Information Gain)\n",
    "import pandas as pd\n",
    "from sklearn.feature_selection import mutual_info_classif\n",
    "X = pcos.drop(['PCOS (Y/N)'], axis=1)\n",
    "y = pcos['PCOS (Y/N)']\n",
    "mi = mutual_info_classif(X, y)\n",
    "mi_pcos = pd.DataFrame({'feature': X.columns, 'mutual_information': mi})\n",
    "mi_pcos = mi_pcos.sort_values('mutual_information', ascending=False)\n",
    "print(mi_pcos)"
   ]
  },
  {
   "cell_type": "markdown",
   "id": "c4a08522",
   "metadata": {
    "id": "38031f24"
   },
   "source": [
    "## 5.2 Report observations\n"
   ]
  },
  {
   "cell_type": "markdown",
   "id": "139f7f13",
   "metadata": {
    "id": "85c7a3a8"
   },
   "source": [
    "In Chi-Squared \"Age\" and \"Waist:hip Ratio\" have p-value less than assumed 0.05 which means null hypothesis is satisfied for these two columns alone.\n",
    "In Mutual Inforamation Follicle No. (R) have the highest value and more information in feature for predicting the PCOS. Addition to this other factors in descending contributes tot he relationship."
   ]
  },
  {
   "cell_type": "markdown",
   "id": "6ff785dd",
   "metadata": {
    "id": "06f1173c"
   },
   "source": [
    "# 6. Implement Machine Learning Techniques"
   ]
  },
  {
   "cell_type": "markdown",
   "id": "abc3a86f",
   "metadata": {
    "id": "040afed8"
   },
   "source": [
    "## 6.1 ML technique 1 + Justification"
   ]
  },
  {
   "cell_type": "code",
   "execution_count": null,
   "id": "b7f47580",
   "metadata": {
    "execution": {
     "iopub.execute_input": "2023-05-15T16:40:36.243653Z",
     "iopub.status.busy": "2023-05-15T16:40:36.243188Z",
     "iopub.status.idle": "2023-05-15T16:40:36.273399Z",
     "shell.execute_reply": "2023-05-15T16:40:36.271868Z",
     "shell.execute_reply.started": "2023-05-15T16:40:36.243610Z"
    },
    "id": "7042235d"
   },
   "outputs": [],
   "source": [
    "#Classification -- Decision Tree classifier\n",
    "# create model\n",
    "from sklearn.model_selection import train_test_split\n",
    "from sklearn.metrics import accuracy_score, confusion_matrix, classification_report\n",
    "from sklearn.neighbors import KNeighborsClassifier\n",
    "from sklearn.tree import DecisionTreeClassifier\n",
    "from sklearn.ensemble import ExtraTreesClassifier\n",
    "from sklearn.inspection import permutation_importance\n",
    "x = pcos.drop('PCOS (Y/N)', axis=1)\n",
    "y = pcos['PCOS (Y/N)']\n",
    "\n",
    "x_train, x_test, y_train, y_test = train_test_split(x, y, test_size = 0.20, random_state = 42)"
   ]
  },
  {
   "cell_type": "code",
   "execution_count": null,
   "id": "27e8644c",
   "metadata": {
    "execution": {
     "iopub.execute_input": "2023-05-15T16:40:36.275878Z",
     "iopub.status.busy": "2023-05-15T16:40:36.275278Z",
     "iopub.status.idle": "2023-05-15T16:40:36.353112Z",
     "shell.execute_reply": "2023-05-15T16:40:36.351704Z",
     "shell.execute_reply.started": "2023-05-15T16:40:36.275820Z"
    }
   },
   "outputs": [],
   "source": [
    "dtc = DecisionTreeClassifier() \n",
    "dtc.fit(x_train, y_train) \n",
    "dtc_predicted_train = dtc.predict(x_train) \n",
    "dtc_predicted_test = dtc.predict(x_test) \n",
    "dtc_train_acc = accuracy_score(y_train, dtc_predicted_train) \n",
    "dtc_test_acc = accuracy_score(y_test, dtc_predicted_test) \n",
    "dtc_classification_report = classification_report(y_test, dtc_predicted_test)\n",
    "dtc_confusion_matrix = confusion_matrix(y_test, dtc_predicted_test)\n",
    "\n",
    "# print accuracy score, classification report, and confusion matrix\n",
    "print(f\"Training phase accuracy: {dtc_train_acc}\")\n",
    "print(f\"Test phase accuracy: {dtc_test_acc}\")\n",
    "print(f\"Classification Report : \\n {dtc_classification_report}\")\n",
    "print(f\"Confusion Matrix : \\n{dtc_confusion_matrix}\\n\")\n",
    "\n",
    "# consfusion matrix cross table\n",
    "pd.crosstab(y_test, dtc_predicted_test, rownames=['True'], colnames=['Predicted'], margins=True)"
   ]
  },
  {
   "cell_type": "markdown",
   "id": "cce4d2da",
   "metadata": {
    "id": "f610ca8c"
   },
   "source": [
    "## 6.2 ML technique 2 + Justification"
   ]
  },
  {
   "cell_type": "code",
   "execution_count": null,
   "id": "9d71c4ea",
   "metadata": {
    "execution": {
     "iopub.execute_input": "2023-05-15T16:40:36.355871Z",
     "iopub.status.busy": "2023-05-15T16:40:36.355411Z",
     "iopub.status.idle": "2023-05-15T16:40:36.534603Z",
     "shell.execute_reply": "2023-05-15T16:40:36.532606Z",
     "shell.execute_reply.started": "2023-05-15T16:40:36.355828Z"
    },
    "id": "9b75e079"
   },
   "outputs": [],
   "source": [
    "\n",
    "#K-NN\n",
    "knnc = KNeighborsClassifier() \n",
    "knnc.fit(x_train, y_train) \n",
    "knnc_predicted_train = knnc.predict(x_train) \n",
    "knnc_predicted_test = knnc.predict(x_test) \n",
    "knnc_train_acc = accuracy_score(y_train, knnc_predicted_train) \n",
    "knnc_test_acc = accuracy_score(y_test, knnc_predicted_test) \n",
    "knnc_classification_report = classification_report(y_test, knnc_predicted_test)\n",
    "knnc_confusion_matrix = confusion_matrix(y_test, knnc_predicted_test)\n",
    "\n",
    "# print accuracy score, classification report, and confusion matrix\n",
    "print(f\"Training phase accuracy: {knnc_train_acc}\")\n",
    "print(f\"Test phase accuracy: {knnc_test_acc}\")\n",
    "print(f\"Classification Report : \\n {knnc_classification_report}\")\n",
    "print(f\"Confusion Matrix : \\n{knnc_confusion_matrix}\\n\")\n",
    "\n",
    "# consfusion matrix cross table\n",
    "pd.crosstab(y_test, knnc_predicted_test, rownames=['True'], colnames=['Predicted'], margins=True)"
   ]
  },
  {
   "cell_type": "markdown",
   "id": "77c21b6c",
   "metadata": {
    "id": "eb57940c"
   },
   "source": [
    "## 7. Conclusion "
   ]
  },
  {
   "cell_type": "markdown",
   "id": "2d4743ed",
   "metadata": {
    "id": "9bf06eb1"
   },
   "source": [
    "\n",
    "#ML1 Decision tree result explained\n",
    "The decision tree model has been trained and tested on a dataset. The results obtained are as follows:\n",
    "\n",
    "Training phase accuracy: 1.0 - This means that the decision tree algorithm was able to correctly classify all the instances in the training dataset. However, a perfect accuracy on the training dataset does not necessarily guarantee a good performance on unseen data.\n",
    "\n",
    "Test phase accuracy: 0.7962962962962963 - This means that the decision tree model was able to correctly classify 79.63% of the instances in the test dataset. The test phase accuracy is a better measure of the performance of the model on unseen data.\n",
    "\n",
    "Classification Report: The classification report shows various metrics such as precision, recall, and F1 score for each class (0 and 1) in the dataset. The precision for class 0 is 0.88, which means that when the model predicts a sample as class 0, it is correct 88% of the time. The recall for class 0 is 0.84, which means that the model is able to correctly identify 84% of the instances of class 0 in the dataset. The F1-score for class 0 is 0.86, which is the harmonic mean of precision and recall. Similarly, the precision, recall, and F1-score for class 1 are 0.59, 0.68, and 0.63, respectively.\n",
    "\n",
    "Confusion Matrix: The confusion matrix shows the number of true positives, true negatives, false positives, and false negatives predicted by the model. In this case, the confusion matrix shows that out of the 80 instances of class 0, the model correctly predicted 67 as class 0 and 13 as class 1. Out of the 28 instances of class 1, the model correctly predicted 19 as class 1 and 9 as class 0.\n",
    "\n",
    "In summary, the decision tree model achieved a reasonable performance on the test dataset with an accuracy of 79.63%. However, the precision, recall, and F1-score for class 1 are relatively low compared to class 0, indicating that the model is not as good at identifying instances of class 1 as it is for class 0. The confusion matrix provides more detailed information about the performance of the model on each class.\n",
    "\n",
    "#ML2 KNN results explained.\n",
    "\n",
    "The KNN model has been trained and tested on a dataset. The results obtained are as follows:\n",
    "\n",
    "Training phase accuracy: 0.8955916473317865 - This means that the KNN algorithm was able to correctly classify 89.56% of the instances in the training dataset.\n",
    "\n",
    "Test phase accuracy: 0.8240740740740741 - This means that the KNN model was able to correctly classify 82.41% of the instances in the test dataset.\n",
    "\n",
    "Classification Report: The classification report shows various metrics such as precision, recall, and F1 score for each class (0 and 1) in the dataset. The precision for class 0 is 0.86, which means that when the model predicts a sample as class 0, it is correct 86% of the time. The recall for class 0 is 0.91, which means that the model is able to correctly identify 91% of the instances of class 0 in the dataset. The F1-score for class 0 is 0.88, which is the harmonic mean of precision and recall. Similarly, the precision, recall, and F1-score for class 1 are 0.70, 0.57, and 0.63, respectively.\n",
    "\n",
    "Confusion Matrix: The confusion matrix shows the number of true positives, true negatives, false positives, and false negatives predicted by the model. In this case, the confusion matrix shows that out of the 80 instances of class 0, the model correctly predicted 73 as class 0 and 7 as class 1. Out of the 28 instances of class 1, the model correctly predicted 16 as class 1 and 12 as class 0.\n",
    "\n",
    "In summary, the KNN model achieved a reasonable performance on the test dataset with an accuracy of 82.41%. The precision, recall, and F1-score for class 1 are relatively lower compared to class 0, indicating that the model is not as good at identifying instances of class 1 as it is for class 0. The confusion matrix provides more detailed information about the performance of the model on each class."
   ]
  },
  {
   "cell_type": "markdown",
   "id": "67b65872",
   "metadata": {
    "id": "79ed0137"
   },
   "source": [
    "## 8. Solution\n"
   ]
  },
  {
   "cell_type": "raw",
   "id": "f01e9627",
   "metadata": {
    "id": "68ab61d5"
   },
   "source": [
    "\n",
    "Based on the ML techniques and results, the precision in accuracy is more towards confirming below facts.\n",
    "The length of the menstrual phase is overall consistent over different ages for normal cases. Whereas in the case of PCOD the length increased with age.\n",
    "Body mass index (BMI) is showing consistency for normal cases. Whereas for PCOS the BMI increases with age.\n",
    "There is no clarity on what this feature and its values indicate but,\n",
    "Apparently in the feature \"Cycle(R/I)\" value:\n",
    "4 indicates irregular menstrual cycle\n",
    "2 indicates a regular menstrual cycle\n",
    "The mensural cycle becomes more regular for normal cases with age. Whereas, for PCOS the irregularity increases with age.\n",
    "The distribution of follicles in both ovaries Left and Right are not equal for women with PCOS in comparison with the \"Normal\" patient. Thia is curious let's exlore it with boxen plot.\n",
    "The number of follicles in women with PCOS is higher, as expected. And are unequal as well.\n",
    "\n",
    "Some challenges where during designing the plats where pair plot shows ess distortiona where as histogram is designed fpr boolean, and scatter plots doesnt support our feature. So we went for bar plots to show case each attribute in its own feature compared to target variable.\n",
    "\n",
    "On a conclusion note, follicles, age, cycle(r/I) are major reason / contributing factor towards the PCOS.\n",
    "In summary, the decision tree model achieved a reasonable performance on the test dataset with an accuracy of 79.63%. However, the precision, recall, and F1-score for class 1 are relatively low compared to class 0, indicating that the model is not as good at identifying instances of class 1 as it is for class 0. The confusion matrix provides more detailed information about the performance of the model on each class.\n",
    "And with respect to the KNN model achieved a reasonable performance on the test dataset with an accuracy of 82.41%. The precision, recall, and F1-score for class 1 are relatively lower compared to class 0, indicating that the model is not as good at identifying instances of class 1 as it is for class 0. The confusion matrix provides more detailed information about the performance of the model on each class."
   ]
  }
 ],
 "metadata": {
  "colab": {
   "provenance": []
  },
  "kernelspec": {
   "display_name": "Python 3 (ipykernel)",
   "language": "python",
   "name": "python3"
  },
  "language_info": {
   "codemirror_mode": {
    "name": "ipython",
    "version": 3
   },
   "file_extension": ".py",
   "mimetype": "text/x-python",
   "name": "python",
   "nbconvert_exporter": "python",
   "pygments_lexer": "ipython3",
   "version": "3.9.13"
  }
 },
 "nbformat": 4,
 "nbformat_minor": 5
}
